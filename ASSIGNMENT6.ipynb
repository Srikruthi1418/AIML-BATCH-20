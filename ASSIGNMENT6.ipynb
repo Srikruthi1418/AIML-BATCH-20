ASSIGNMENT 1(https://github.com/Srikruthi1418/AIML-BATCH-20/edit/main/ASSIGNMENT6.ipynb)
